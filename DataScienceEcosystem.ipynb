{
 "cells": [
  {
   "cell_type": "markdown",
   "id": "9fd4d6dd",
   "metadata": {},
   "source": [
    "# Data Science Tools and Ecosystem"
   ]
  },
  {
   "cell_type": "markdown",
   "id": "8bcceaa3",
   "metadata": {},
   "source": [
    "In this notebook, Data Science Tools and Ecosystems are summarized."
   ]
  },
  {
   "cell_type": "markdown",
   "id": "6a2a1353",
   "metadata": {},
   "source": [
    "**Objectives:**\n",
    "+ List popular languages for Data Science\n",
    "+ List commonly used libraries in Data Science\n",
    "+ List development environment open source tools used in Data Science\n",
    "+ Evaluate Arithmetic Expressions in Python"
   ]
  },
  {
   "cell_type": "markdown",
   "id": "fe0cc875",
   "metadata": {},
   "source": [
    "Some of the popular languages used by Data Scientists include:"
   ]
  },
  {
   "cell_type": "markdown",
   "id": "b1ce78cc",
   "metadata": {},
   "source": [
    "    1. Python\n",
    "    2. R\n",
    "    3. SQL\n",
    "    4. Scala\n",
    "    5. Java\n",
    "    6. C++"
   ]
  },
  {
   "cell_type": "markdown",
   "id": "ccca8d58",
   "metadata": {},
   "source": [
    "Some of the commonly used libraries used by Data Scientists include:"
   ]
  },
  {
   "cell_type": "markdown",
   "id": "74b38a98",
   "metadata": {},
   "source": [
    "1. Pandas\n",
    "2. Numpy\n",
    "3. Matplotlib\n",
    "4. Scikit\n",
    "5. Seaborn\n",
    "6. TensorFlow"
   ]
  },
  {
   "cell_type": "markdown",
   "id": "a824bd85",
   "metadata": {},
   "source": [
    "|Data Science Tools|\n",
    "|------------------|\n",
    "|Jupyter Notebooks|\n",
    "|Jupyter Lab|\n",
    "|RStudio|"
   ]
  },
  {
   "cell_type": "markdown",
   "id": "b6b57beb",
   "metadata": {},
   "source": [
    "### Below are a few examples of evaluating arithmtic expressions in Python"
   ]
  },
  {
   "cell_type": "code",
   "execution_count": 3,
   "id": "6e06002f",
   "metadata": {},
   "outputs": [
    {
     "name": "stdout",
     "output_type": "stream",
     "text": [
      "17\n"
     ]
    }
   ],
   "source": [
    "#This is a simple arithmetic expression to multiply then add integers\n",
    "\n",
    "a = (3*4)+5\n",
    "print (a)"
   ]
  },
  {
   "cell_type": "code",
   "execution_count": 4,
   "id": "20e13e3c",
   "metadata": {},
   "outputs": [
    {
     "name": "stdout",
     "output_type": "stream",
     "text": [
      "3.3333333333333335\n"
     ]
    }
   ],
   "source": [
    "#This will convert 200 minutes to hours by dividing by 60\n",
    "\n",
    "a = 200 / 60\n",
    "print (a)"
   ]
  },
  {
   "cell_type": "markdown",
   "id": "fdf5faae",
   "metadata": {},
   "source": [
    "## Author\n",
    "Owuraku Manu-Marfo"
   ]
  },
  {
   "cell_type": "code",
   "execution_count": null,
   "id": "2a29d237",
   "metadata": {},
   "outputs": [],
   "source": []
  }
 ],
 "metadata": {
  "kernelspec": {
   "display_name": "Python 3 (ipykernel)",
   "language": "python",
   "name": "python3"
  },
  "language_info": {
   "codemirror_mode": {
    "name": "ipython",
    "version": 3
   },
   "file_extension": ".py",
   "mimetype": "text/x-python",
   "name": "python",
   "nbconvert_exporter": "python",
   "pygments_lexer": "ipython3",
   "version": "3.10.9"
  }
 },
 "nbformat": 4,
 "nbformat_minor": 5
}
